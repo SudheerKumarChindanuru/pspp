{
 "cells": [
  {
   "cell_type": "markdown",
   "metadata": {},
   "source": [
    "<img src='python logo.png'>\n",
    "\n",
    "# Python Programming - 30 May 2019\n",
    "\n",
    "### Session Objectives\n",
    "\n",
    "* To introduce Jupyter notebooks\n",
    "* To teach **Markdown** syntax\n",
    "* To introduce **Python** basics\n",
    "    * Basic Syntax ( Variables, Assignment, Data Types)\n",
    "    * Control Structures\n",
    "        1. Conditional Statements\n",
    "        2. Repetitive Statements"
   ]
  },
  {
   "cell_type": "markdown",
   "metadata": {},
   "source": [
    "## Python Basics"
   ]
  },
  {
   "cell_type": "code",
   "execution_count": 1,
   "metadata": {},
   "outputs": [
    {
     "name": "stdout",
     "output_type": "stream",
     "text": [
      "Hello world..!\n",
      "Hello world Helloworld\n"
     ]
    }
   ],
   "source": [
    "print(\"Hello world..!\") #single parameter\n",
    "print(\"Hello\",\"world\",end=\" \") # Multiple paramters\n",
    "print(\"Hello\"+\"world\") # using +"
   ]
  },
  {
   "cell_type": "code",
   "execution_count": 2,
   "metadata": {},
   "outputs": [
    {
     "name": "stdout",
     "output_type": "stream",
     "text": [
      "Enter a value:25\n",
      "Value is: 25\n"
     ]
    }
   ],
   "source": [
    "#This is comment\n",
    "\n",
    "n = input(\"Enter a value:\") # capture input and store it in a variable\n",
    "print(\"Value is:\",n)"
   ]
  },
  {
   "cell_type": "code",
   "execution_count": 3,
   "metadata": {},
   "outputs": [
    {
     "data": {
      "text/plain": [
       "625"
      ]
     },
     "execution_count": 3,
     "metadata": {},
     "output_type": "execute_result"
    }
   ],
   "source": [
    "n = int(n) # type conversion to integer and reassign\n",
    "n * n # expression evaluation using arithmetic operator"
   ]
  },
  {
   "cell_type": "code",
   "execution_count": 4,
   "metadata": {},
   "outputs": [
    {
     "name": "stdout",
     "output_type": "stream",
     "text": [
      "25 25 25\n",
      "123 <class 'int'> 234 <class 'int'> 345 <class 'int'>\n"
     ]
    }
   ],
   "source": [
    "a = b = c = n # multi variable assignment with same value\n",
    "print(a, b, c)\n",
    "d, e, f = 123, 234, 345 # multi varaibles are assigned with different values\n",
    "print(d, type(d), e, type(e), f, type(f))"
   ]
  },
  {
   "cell_type": "code",
   "execution_count": 5,
   "metadata": {},
   "outputs": [
    {
     "name": "stdout",
     "output_type": "stream",
     "text": [
      "<class 'int'>\n",
      "<class 'str'>\n",
      "<class 'float'>\n"
     ]
    }
   ],
   "source": [
    "# Type Conversion\n",
    "print(type(c))\n",
    "c = str(c)\n",
    "print(type(c))\n",
    "c = float(c)\n",
    "print(type(c))"
   ]
  },
  {
   "cell_type": "markdown",
   "metadata": {},
   "source": [
    "### String Slicing"
   ]
  },
  {
   "cell_type": "code",
   "execution_count": 6,
   "metadata": {},
   "outputs": [
    {
     "name": "stdout",
     "output_type": "stream",
     "text": [
      "P\n",
      "g\n",
      "Python\n",
      "Python\n",
      "Programming\n",
      "Programming\n"
     ]
    }
   ],
   "source": [
    "s1 = \"Python Programming\"\n",
    "print(s1[0]) # Access the first character\n",
    "print(s1[-1]) # Access the last character\n",
    "print(s1[0:6]) # Access the substring - first 6 characters\n",
    "print(s1[:6]) # Access the substring - frist 6 characters\n",
    "print(s1[7:len(s1)]) # Access second string\n",
    "print(s1[7:]) # Access all characters from 7th index"
   ]
  },
  {
   "cell_type": "code",
   "execution_count": 7,
   "metadata": {},
   "outputs": [
    {
     "name": "stdout",
     "output_type": "stream",
     "text": [
      "gnimmargorP nohtyP\n",
      "gnimmargorP\n",
      "nohtyP\n"
     ]
    }
   ],
   "source": [
    "print(s1[::-1]) # Reverse of a string\n",
    "print(s1[-1:6:-1]) # Reverse of a substring - Programming\n",
    "print(s1[5::-1]) # Reverse of a substring - Python"
   ]
  },
  {
   "cell_type": "code",
   "execution_count": 8,
   "metadata": {},
   "outputs": [
    {
     "name": "stdout",
     "output_type": "stream",
     "text": [
      "987654\n",
      "654\n"
     ]
    }
   ],
   "source": [
    "s2 = '123456789'\n",
    "print(s2[-1:2:-1]) # Reverse of last len(s2)-3\n",
    "print(s2[5:2:-1]) # Reverse of characters from index 5 to index 3"
   ]
  },
  {
   "cell_type": "code",
   "execution_count": 9,
   "metadata": {},
   "outputs": [
    {
     "name": "stdout",
     "output_type": "stream",
     "text": [
      "13579\n",
      "2468\n",
      "97531\n",
      "8642\n"
     ]
    }
   ],
   "source": [
    "print(s2[0::2]) # Accessing alternate characters\n",
    "print(s2[1::2]) # Accessing alternate characters\n",
    "print(s2[-1::-2]) # Accessing alternate characters in reverse order\n",
    "print(s2[-2::-2]) # Accessing alternate characters in reverse order"
   ]
  },
  {
   "cell_type": "markdown",
   "metadata": {},
   "source": [
    "### Functions in Python"
   ]
  },
  {
   "cell_type": "code",
   "execution_count": 11,
   "metadata": {},
   "outputs": [
    {
     "name": "stdout",
     "output_type": "stream",
     "text": [
      "987654321\n"
     ]
    }
   ],
   "source": [
    "# Function to Reverse a string\n",
    "def reverseString(s):\n",
    "    return s[::-1]\n",
    "print(reverseString(s2))"
   ]
  },
  {
   "cell_type": "code",
   "execution_count": 12,
   "metadata": {},
   "outputs": [
    {
     "name": "stdout",
     "output_type": "stream",
     "text": [
      "6543\n"
     ]
    }
   ],
   "source": [
    "# Function to Reverse a substring\n",
    "def reverseSubString(s, i, j):\n",
    "    sub = s[i:j+1]\n",
    "    return sub[::-1]\n",
    "\n",
    "print(reverseSubString(s2,2,5))"
   ]
  },
  {
   "cell_type": "markdown",
   "metadata": {},
   "source": [
    "## Control Statements"
   ]
  },
  {
   "cell_type": "markdown",
   "metadata": {},
   "source": [
    "### Conditional Statements in Python"
   ]
  },
  {
   "cell_type": "code",
   "execution_count": 13,
   "metadata": {},
   "outputs": [
    {
     "name": "stdout",
     "output_type": "stream",
     "text": [
      "True\n",
      "False\n"
     ]
    }
   ],
   "source": [
    "#Function to test divisibility by 9 and 11 and not 10\n",
    "def divisibilityTest(n):\n",
    "    if n % 9 == 0 and n % 11 == 0 and n % 10 != 0:\n",
    "        return True\n",
    "    else:\n",
    "        return False\n",
    "    \n",
    "print(divisibilityTest(99))\n",
    "print(divisibilityTest(990))"
   ]
  },
  {
   "cell_type": "code",
   "execution_count": 14,
   "metadata": {},
   "outputs": [
    {
     "name": "stdout",
     "output_type": "stream",
     "text": [
      "Enter base:2\n",
      "Enter exponent:6\n",
      "64\n"
     ]
    }
   ],
   "source": [
    "# Recursive Function for a power n\n",
    "def powerN(a, n):\n",
    "    if n == 0:\n",
    "        return 1\n",
    "    return a * powerN(a, n-1)\n",
    "\n",
    "\n",
    "a = int(input(\"Enter base:\"))\n",
    "n = int(input(\"Enter exponent:\"))\n",
    "print(powerN(a,n))"
   ]
  },
  {
   "cell_type": "code",
   "execution_count": 16,
   "metadata": {},
   "outputs": [
    {
     "name": "stdout",
     "output_type": "stream",
     "text": [
      "Enter a string to check:racecar\n",
      "Palindrome\n"
     ]
    }
   ],
   "source": [
    "# Function to check a given string is palindrome or not\n",
    "def palindrome(s1):\n",
    "    s2 = s1[::-1]\n",
    "    if s1 == s2:\n",
    "        print(\"Palindrome\")\n",
    "    else:\n",
    "        print(\"Not Palindrome\")\n",
    "        \n",
    "        \n",
    "str = input(\"Enter a string to check:\")\n",
    "str = str.lower()\n",
    "palindrome(str)"
   ]
  },
  {
   "cell_type": "markdown",
   "metadata": {},
   "source": [
    "### Looping Statements in Python"
   ]
  },
  {
   "cell_type": "code",
   "execution_count": 17,
   "metadata": {},
   "outputs": [
    {
     "name": "stdout",
     "output_type": "stream",
     "text": [
      "123 124 125 "
     ]
    }
   ],
   "source": [
    "for i in range(123, 126):\n",
    "    print(i,end=\" \")"
   ]
  },
  {
   "cell_type": "code",
   "execution_count": 18,
   "metadata": {},
   "outputs": [
    {
     "name": "stdout",
     "output_type": "stream",
     "text": [
      "Enter lower bound:1\n",
      "Enter upper bound:70\n",
      "7 14 21 28 35 42 49 56 63 70 "
     ]
    }
   ],
   "source": [
    "# Function to print all numbers divisible by 7 in given range [lb, ub]\n",
    "def divisible7(lb, ub):\n",
    "    for i in range(lb, ub+1):\n",
    "        if(i % 7 == 0):\n",
    "            print(i, end=\" \")\n",
    "            \n",
    "            \n",
    "lb = int(input(\"Enter lower bound:\"))\n",
    "ub = int(input(\"Enter upper bound:\"))\n",
    "divisible7(lb,ub)"
   ]
  },
  {
   "cell_type": "code",
   "execution_count": 19,
   "metadata": {},
   "outputs": [
    {
     "name": "stdout",
     "output_type": "stream",
     "text": [
      "Enter a number:100\n",
      "2 3 5 7 11 13 17 19 23 29 31 37 41 43 47 53 59 61 67 71 73 79 83 89 97 "
     ]
    }
   ],
   "source": [
    "# Function to generate of prime numbers from 1 to n\n",
    "def isFactor(dividend, divisor):\n",
    "    if dividend % divisor == 0:\n",
    "        return True\n",
    "    return False\n",
    "\n",
    "def isPrime(n):\n",
    "    for i in range(2, n//2 + 1):\n",
    "        if isFactor(n,i):\n",
    "            return False\n",
    "    return True\n",
    "\n",
    "def genPrimes(k):\n",
    "    for i in range(2,k+1):\n",
    "        if isPrime(i):\n",
    "            print(i,end=\" \")\n",
    "            \n",
    "            \n",
    "n=int(input(\"Enter a number:\"))\n",
    "genPrimes(n)"
   ]
  },
  {
   "cell_type": "markdown",
   "metadata": {},
   "source": [
    "### Lists in Python"
   ]
  },
  {
   "cell_type": "code",
   "execution_count": 20,
   "metadata": {},
   "outputs": [
    {
     "name": "stdout",
     "output_type": "stream",
     "text": [
      "[1, 2, 3, 4, 5, 6, 'Python', 5.6]\n",
      "5.6\n",
      "['Python', 5.6]\n",
      "[3, 4, 5, 6, 'Python', 5.6]\n",
      "P\n",
      "[1, 2, 3, 4, 5, 6, 'Python', 5.6, 'sudheer']\n",
      "[1, 2, 3, 4, 5, 6, 'Python', 5.6, 'sudheer', [12, 13, 14]]\n",
      "[1, 2, 3, 4, 5, 6, 'Python', 5.6, [12, 13, 14]]\n",
      "[1, 2, 3, 4, 5, 6, 'Python', 5.6, [12, 14]]\n",
      "[1, 2, 3, 4, 5, 6, 'Python', 5.6, [12, 13, 14]]\n",
      "[1, 2, 3, 5, 6, 'Python', 5.6, [12, 13, 14]]\n",
      "[12, 14, 25, 54]\n",
      "[12, 14, 25, 54, 21, 22, 23]\n",
      "[12, 14, 21, 22, 23, 25, 54]\n",
      "[54, 25, 23, 22, 21, 14, 12]\n"
     ]
    }
   ],
   "source": [
    "li = [1, 2, 3, 4, 5, 6,'Python',5.6] # Any type of data can be kept in List\n",
    "\n",
    "print(li)\n",
    "print(li[-1])\n",
    "print(li[-2:])\n",
    "print(li[2:])\n",
    "print(li[6][0])\n",
    "\n",
    "li.append('sudheer') # to add(append) element at the end of the list\n",
    "print(li)\n",
    "\n",
    "li.append([12, 13, 14]) # to add(append) sublist in main list\n",
    "print(li)\n",
    "\n",
    "li.remove('sudheer') # to remove specified element from the list\n",
    "print(li)\n",
    "\n",
    "li[8].remove(13) # to remove element in a sublist\n",
    "print(li)\n",
    "\n",
    "li[8].insert(1,13) # to insert element at a particular index\n",
    "print(li)\n",
    "\n",
    "li.pop(3) #to remove selected index element\n",
    "print(li)\n",
    "\n",
    "numlist = [25, 12, 54, 14]\n",
    "\n",
    "numlist.sort() # sort the list in ascending oder\n",
    "print(numlist)\n",
    "\n",
    "numlist.extend([21, 22, 23]) # merges two lists - means second list elements are merged\n",
    "print(numlist)\n",
    "numlist.sort()\n",
    "print(numlist)\n",
    "numlist.sort(reverse=True) # sorts the list in descending order\n",
    "print(numlist)"
   ]
  }
 ],
 "metadata": {
  "kernelspec": {
   "display_name": "Python 3",
   "language": "python",
   "name": "python3"
  },
  "language_info": {
   "codemirror_mode": {
    "name": "ipython",
    "version": 3
   },
   "file_extension": ".py",
   "mimetype": "text/x-python",
   "name": "python",
   "nbconvert_exporter": "python",
   "pygments_lexer": "ipython3",
   "version": "3.7.3"
  }
 },
 "nbformat": 4,
 "nbformat_minor": 2
}
