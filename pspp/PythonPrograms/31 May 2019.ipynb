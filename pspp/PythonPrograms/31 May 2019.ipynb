{
 "cells": [
  {
   "cell_type": "markdown",
   "metadata": {},
   "source": [
    "<img src='python logo.png'>\n",
    "\n",
    "# Python Programming - 31 May 2019"
   ]
  },
  {
   "cell_type": "markdown",
   "metadata": {},
   "source": [
    "## Session Objectives\n",
    "\n",
    "* Tuples in Python\n",
    "* Dictionaries\n",
    "* Idiomatic Programming in Python\n",
    "* Regular Expresions in Python\n",
    "* Date Arithmetic\n",
    "* Iterators and Generators\n",
    "* Functional Programming"
   ]
  },
  {
   "cell_type": "markdown",
   "metadata": {},
   "source": [
    "### Tuples in Python"
   ]
  },
  {
   "cell_type": "code",
   "execution_count": 3,
   "metadata": {},
   "outputs": [
    {
     "name": "stdout",
     "output_type": "stream",
     "text": [
      "(1001, 'Sudheer', 85, 98)\n"
     ]
    }
   ],
   "source": [
    "t1 = (1001, 'Sudheer',85, 98) # creating and defining a tuple - A Linear data Structure\n",
    "\n",
    "print(t1)"
   ]
  },
  {
   "cell_type": "code",
   "execution_count": 114,
   "metadata": {},
   "outputs": [
    {
     "name": "stdout",
     "output_type": "stream",
     "text": [
      "1001\n",
      "(85, 98)\n",
      "(85, 'Sudheer', 1001)\n"
     ]
    }
   ],
   "source": [
    "print(t1[0]) # accessing specific element of a tuple\n",
    "print(t1[2:]) # accessing elements from specified index\n",
    "print(t1[2::-1])\n"
   ]
  },
  {
   "cell_type": "code",
   "execution_count": 11,
   "metadata": {},
   "outputs": [
    {
     "name": "stdout",
     "output_type": "stream",
     "text": [
      "2 5 8\n"
     ]
    }
   ],
   "source": [
    "t2 = (321, 654, 78908)\n",
    "\n",
    "# accessing the second digit of all the elements of a tuple\n",
    "\n",
    "print(str(t2[0])[1], str(t2[1])[1], str(t2[2])[1])"
   ]
  },
  {
   "cell_type": "code",
   "execution_count": 69,
   "metadata": {},
   "outputs": [
    {
     "name": "stdout",
     "output_type": "stream",
     "text": [
      "27.0\n",
      "345.0\n"
     ]
    }
   ],
   "source": [
    "# Average of all numerical elements in a linear data structure\n",
    "\n",
    "def averageLinearDS(t):\n",
    "    sum = 0\n",
    "    for i in range(0, len(t)):\n",
    "        sum += t[i]\n",
    "    return sum/len(t)\n",
    "    \n",
    "\n",
    "    \n",
    "li = [123, 234, 345, 456, 567]    \n",
    "t3 = (25, 32, 15, 26, 37)\n",
    "\n",
    "print(averageLinearDS(t3))\n",
    "print(averageLinearDS(li))\n",
    "\n"
   ]
  },
  {
   "cell_type": "markdown",
   "metadata": {},
   "source": [
    "### Iterators"
   ]
  },
  {
   "cell_type": "code",
   "execution_count": 31,
   "metadata": {},
   "outputs": [
    {
     "name": "stdout",
     "output_type": "stream",
     "text": [
      "p y t h o n "
     ]
    }
   ],
   "source": [
    "s = \"python\"\n",
    "for c in s: # for an item in a data structure\n",
    "    print(c,end = \" \")"
   ]
  },
  {
   "cell_type": "code",
   "execution_count": 27,
   "metadata": {},
   "outputs": [
    {
     "name": "stdout",
     "output_type": "stream",
     "text": [
      "27.0\n",
      "345.0\n"
     ]
    }
   ],
   "source": [
    "# Average of all numerical elements in a linear data structure\n",
    "\n",
    "def averageLinearDS(t):\n",
    "    sum = 0\n",
    "    for item in t:  # t is iterable object, so we can items directly wihtout index\n",
    "        sum += item\n",
    "    return sum/len(t)\n",
    "    \n",
    "\n",
    "    \n",
    "li = [123, 234, 345, 456, 567]    \n",
    "t3 = (25, 32, 15, 26, 37)\n",
    "\n",
    "\n",
    "print(averageLinearDS(t3))\n",
    "print(averageLinearDS(li))"
   ]
  },
  {
   "cell_type": "code",
   "execution_count": 72,
   "metadata": {},
   "outputs": [
    {
     "name": "stdout",
     "output_type": "stream",
     "text": [
      "567 456 345 234 123 [567, 456, 345, 234, 123]\n"
     ]
    }
   ],
   "source": [
    "# reversing the list directly\n",
    "\n",
    "l2 = reversed(li) # reverse the list\n",
    "for i in l2:\n",
    "    print(i, end=\" \")\n",
    "    \n",
    "l2 = list(reversed(li))  \n",
    "print(l2)"
   ]
  },
  {
   "cell_type": "code",
   "execution_count": 33,
   "metadata": {},
   "outputs": [
    {
     "name": "stdout",
     "output_type": "stream",
     "text": [
      "-1\n",
      "2\n"
     ]
    }
   ],
   "source": [
    "# Funtion to search in a linear data structure\n",
    "\n",
    "def linearSearch(ds,key):\n",
    "    for i in range(0,len(ds)):\n",
    "        if key == ds[i]:\n",
    "            return i\n",
    "    return -1\n",
    "    \n",
    "       \n",
    "print(linearSearch(t3,35))\n",
    "print(linearSearch(t3,15))\n",
    "    "
   ]
  },
  {
   "cell_type": "code",
   "execution_count": 37,
   "metadata": {},
   "outputs": [
    {
     "name": "stdout",
     "output_type": "stream",
     "text": [
      "37\n",
      "567\n"
     ]
    }
   ],
   "source": [
    "#Function to find maximum element of a list\n",
    "\n",
    "def maxElementsDS(ds):\n",
    "    maxi = ds[0]\n",
    "    for ele in ds:\n",
    "        if ele > maxi:\n",
    "            maxi = ele\n",
    "    return maxi\n",
    "\n",
    "\n",
    "\n",
    "print(maxElementsDS(t3))\n",
    "print(maxElementsDS(li))"
   ]
  },
  {
   "cell_type": "markdown",
   "metadata": {},
   "source": [
    "### Dictionaries in Python"
   ]
  },
  {
   "cell_type": "code",
   "execution_count": 55,
   "metadata": {},
   "outputs": [
    {
     "name": "stdout",
     "output_type": "stream",
     "text": [
      "9491837229\n",
      "[8019370310, 8019373375]\n",
      "dict_keys(['sudheer', 'prasanth'])\n",
      "dict_values([8019370310, 9491837229])\n",
      "{'sudheer': 8019370310, 'prasanth': 9491837229, 'mahesh': 9989112462}\n",
      "{'sudheer': 8019370310, 'prasanth': 9491837229}\n",
      "dict_items([('sudheer', 8019370310), ('prasanth', 9491837229)])\n",
      "{'sudheer': 8019370310, 'prasanth': 9491837229, 'vishnu': 8074592718, 'ranjit': 9515711111}\n"
     ]
    }
   ],
   "source": [
    "d1 = {'sudheer': 8019370310, 'prasanth': 9491837229} # creating & defining a dictionaries\n",
    "d2 = {'sudheer': [8019370310, 8019373375], 'prasanth': 9491837229} # deifining and assigning a list to a key\n",
    "\n",
    "print(d1['prasanth']) # To refer an element in a dictionary\n",
    "print(d2['sudheer'])\n",
    "\n",
    "print(d1.keys())\n",
    "print(d1.values())\n",
    "\n",
    "d1['mahesh'] = 9989112462 # appending an element to a dictionary\n",
    "print(d1)\n",
    "\n",
    "d1.pop('mahesh') # removes a specified key and value using key\n",
    "print(d1)\n",
    "\n",
    "print(d1.items()) # list of items of dictionary as a tuple\n",
    "\n",
    "\n",
    "d3 = {'vishnu': 8074592718, 'ranjit':9515711111}\n",
    "d1.update(d3) # merges existing dictionary with a new dictionary\n",
    "print(d1)"
   ]
  },
  {
   "cell_type": "code",
   "execution_count": 65,
   "metadata": {},
   "outputs": [
    {
     "name": "stdout",
     "output_type": "stream",
     "text": [
      "sudheer : 8019370310\n",
      "vishnu : 8074592718\n",
      "mother : 8019373375\n",
      "ranjit : 9515711111\n",
      "sudheer : 9491837229\n",
      "vishnu : 8074592718\n",
      "mother : 8019373375\n",
      "ranjit : 9515711111\n",
      "sudheer : 9491837229\n",
      "vishnu : 8074592718\n",
      "ranjit : 9515711111\n"
     ]
    }
   ],
   "source": [
    "# Contacts Application\n",
    "# Add, modify, delete and display contacts\n",
    "\n",
    "contacts = {}\n",
    "\n",
    "def addContact(dic, name, phone):\n",
    "    dic[name] = phone\n",
    "    return\n",
    "\n",
    "\n",
    "def displayContacts(contacts):\n",
    "    for name, phone in contacts.items():\n",
    "        print(name,\":\",phone)\n",
    "    return\n",
    "\n",
    "\n",
    "def modifyContacts(contacts, name, newphone):\n",
    "    contacts[name] = newphone\n",
    "    return\n",
    "\n",
    "\n",
    "def deleteContact(contacts,name):\n",
    "    contacts.pop(name)\n",
    "    return\n",
    "\n",
    "\n",
    "addContact(contacts, 'sudheer', 8019370310)\n",
    "addContact(contacts, 'vishnu', 8074592718)\n",
    "addContact(contacts, 'mother', 8019373375)\n",
    "addContact(contacts, 'ranjit', 9515711111)\n",
    "displayContacts(contacts)\n",
    "\n",
    "modifyContacts(contacts,'sudheer',9491837229)\n",
    "displayContacts(contacts)\n",
    "\n",
    "deleteContact(contacts,'mother')\n",
    "displayContacts(contacts)\n"
   ]
  },
  {
   "cell_type": "markdown",
   "metadata": {},
   "source": [
    "### Regular Expressions"
   ]
  },
  {
   "cell_type": "markdown",
   "metadata": {},
   "source": [
    "[0-9] Regular expression for all single digits\n",
    "\n",
    "[a-z] RE for all lowercase alphabet in English\n",
    "\n",
    "[A-Z] RE for all uppercase alphabet in English\n",
    "\n",
    "[0-1] RE for identifying 0s and 1s"
   ]
  },
  {
   "cell_type": "code",
   "execution_count": 78,
   "metadata": {},
   "outputs": [
    {
     "name": "stdout",
     "output_type": "stream",
     "text": [
      "False\n",
      "True\n"
     ]
    }
   ],
   "source": [
    "# Phone Number validator\n",
    "import re\n",
    "def phoneNumberValidator(phone):\n",
    "    phone = str(phone)\n",
    "    pattern = '^[6-9][0-9]{9}$'\n",
    "    if re.match(pattern,phone):\n",
    "        return True\n",
    "    return False\n",
    "\n",
    "\n",
    "print(phoneNumberValidator(5019370310))\n",
    "print(phoneNumberValidator(8019370310))\n"
   ]
  },
  {
   "cell_type": "code",
   "execution_count": 79,
   "metadata": {},
   "outputs": [
    {
     "name": "stdout",
     "output_type": "stream",
     "text": [
      "True\n"
     ]
    }
   ],
   "source": [
    "# email validator\n",
    "import re\n",
    "def emailValidator(email):\n",
    "    email = str(email)\n",
    "    pattern = '^[a-z][a-z0-9_.]{5,14}[@][a-z0-9]{3,12}[.][a-z]{2,3}[.][a-z]{2}$'\n",
    "    if re.match(pattern,email):\n",
    "        return True\n",
    "    return False\n",
    "\n",
    "\n",
    "print(emailValidator('sudheer.cse@srit.ac.in'))"
   ]
  },
  {
   "cell_type": "markdown",
   "metadata": {},
   "source": [
    "#### split() function"
   ]
  },
  {
   "cell_type": "code",
   "execution_count": 81,
   "metadata": {},
   "outputs": [
    {
     "name": "stdout",
     "output_type": "stream",
     "text": [
      "['sudheer is a good boy', 'he is working at SRIT']\n"
     ]
    }
   ],
   "source": [
    "import re\n",
    "s1 = 'sudheer is a good boy, he is working at SRIT'\n",
    "syllabusList = re.split('[,][\\ ]',s1)\n",
    "print(syllabusList)"
   ]
  },
  {
   "cell_type": "markdown",
   "metadata": {},
   "source": [
    "### Date Arithmetic"
   ]
  },
  {
   "cell_type": "code",
   "execution_count": 98,
   "metadata": {},
   "outputs": [
    {
     "name": "stdout",
     "output_type": "stream",
     "text": [
      "17 : 11 : 33\n",
      "2019-05-31\n"
     ]
    }
   ],
   "source": [
    "import datetime\n",
    "\n",
    "now = datetime.datetime.now()\n",
    "todaydate = datetime.date.today()\n",
    "\n",
    "print(now.hour,':',now.minute,':',now.second)\n",
    "print(todaydate)"
   ]
  },
  {
   "cell_type": "code",
   "execution_count": 109,
   "metadata": {},
   "outputs": [
    {
     "name": "stdout",
     "output_type": "stream",
     "text": [
      "4 days, 0:00:00\n"
     ]
    }
   ],
   "source": [
    "# Design a Python script to determine the difference in date for given two dates in YYYY:MM:DD \n",
    "# format(0 <= YYYY <= 9999, 1 <= MM <= 12, 1 <= DD <= 31) following the leap year rules.\n",
    "\n",
    "import datetime\n",
    "def dateDifference(date1,date2):\n",
    "    year1 = int(date1[:4])\n",
    "    mon1 = int(date1[5:7])\n",
    "    day1 = int(date1[8:])\n",
    "    year2 = int(date2[:4])\n",
    "    mon2 = int(date2[5:7])\n",
    "    day2 = int(date2[8:])\n",
    "    d1 = datetime.date(year1,mon1,day1)\n",
    "    d2 = datetime.date(year2,mon2,day2)\n",
    "    return d2 - d1\n",
    "\n",
    "    \n",
    "print(dateDifference('2019:05:27','2019:05:31'))  \n",
    "    \n",
    "    \n",
    "    "
   ]
  },
  {
   "cell_type": "code",
   "execution_count": 113,
   "metadata": {},
   "outputs": [
    {
     "name": "stdout",
     "output_type": "stream",
     "text": [
      "True\n"
     ]
    }
   ],
   "source": [
    "# Leap year function\n",
    "def isLeap(year):\n",
    "    if (year%4==0 and year%100!=0) or (year%400==0):\n",
    "        return True\n",
    "    return False\n",
    "\n",
    "\n",
    "print(isLeap(1600))"
   ]
  },
  {
   "cell_type": "markdown",
   "metadata": {},
   "source": [
    "### List Comprehensions"
   ]
  },
  {
   "cell_type": "code",
   "execution_count": 1,
   "metadata": {},
   "outputs": [
    {
     "name": "stdout",
     "output_type": "stream",
     "text": [
      "21\n",
      "7503\n",
      "[0, 1, 2, 3, 4, 5, 6, 7, 8]\n",
      "[1, 2, 3, 4, 5, 6, 7, 8]\n"
     ]
    }
   ],
   "source": [
    "li = [1, 2, 3, 4, 5, 6]\n",
    "\n",
    "print(sum(li)) # returns sum all elements in a list\n",
    "\n",
    "n = 123\n",
    "print(sum(range(123))) # sum of n natural numbers\n",
    "print(list(range(9)))\n",
    "print(list(range(1,9)))"
   ]
  },
  {
   "cell_type": "code",
   "execution_count": 123,
   "metadata": {},
   "outputs": [
    {
     "name": "stdout",
     "output_type": "stream",
     "text": [
      "22.4682781862041\n"
     ]
    }
   ],
   "source": [
    "#calculate sum of sqrt of n natural numbers\n",
    "\n",
    "from math import sqrt\n",
    "\n",
    "def sumOfSqrtNNaturalNumbers(n):\n",
    "    return sum([sqrt(i) for i in list(range(1,n+1))])\n",
    "\n",
    "\n",
    "n = 10\n",
    "print(sumOfSqrtNNaturalNumbers(10))"
   ]
  },
  {
   "cell_type": "code",
   "execution_count": 130,
   "metadata": {},
   "outputs": [
    {
     "name": "stdout",
     "output_type": "stream",
     "text": [
      "[9, 18, 27, 36, 45, 54, 63, 72, 81, 90, 99]\n"
     ]
    }
   ],
   "source": [
    "# define a function using list comprehension to identify all numbers divisible by 9 in a given list\n",
    "\n",
    "\n",
    "li = list(range(1, 100))\n",
    "\n",
    "print([i for i in li if i % 9 ==0])"
   ]
  },
  {
   "cell_type": "markdown",
   "metadata": {},
   "source": [
    "### Maps in Python\n",
    "\n",
    "Functions and Iterators are passed as parameters to Map"
   ]
  },
  {
   "cell_type": "code",
   "execution_count": 136,
   "metadata": {},
   "outputs": [
    {
     "name": "stdout",
     "output_type": "stream",
     "text": [
      "[1, 8, 27, 64, 125, 216]\n"
     ]
    }
   ],
   "source": [
    "# Function to calculate cube of all numbers in a list\n",
    "\n",
    "l2 = [1, 2, 3, 4, 5, 6]\n",
    "\n",
    "def cubeFunction(n):\n",
    "    return n ** 3\n",
    "\n",
    "\n",
    "print(list(map(cubeFunction, l2)))"
   ]
  },
  {
   "cell_type": "markdown",
   "metadata": {},
   "source": [
    "# Python Programming - 01 June 2019"
   ]
  },
  {
   "cell_type": "code",
   "execution_count": null,
   "metadata": {},
   "outputs": [],
   "source": []
  },
  {
   "cell_type": "code",
   "execution_count": null,
   "metadata": {},
   "outputs": [],
   "source": []
  },
  {
   "cell_type": "code",
   "execution_count": null,
   "metadata": {},
   "outputs": [],
   "source": []
  },
  {
   "cell_type": "code",
   "execution_count": null,
   "metadata": {},
   "outputs": [],
   "source": []
  },
  {
   "cell_type": "code",
   "execution_count": null,
   "metadata": {},
   "outputs": [],
   "source": []
  }
 ],
 "metadata": {
  "kernelspec": {
   "display_name": "Python 3",
   "language": "python",
   "name": "python3"
  },
  "language_info": {
   "codemirror_mode": {
    "name": "ipython",
    "version": 3
   },
   "file_extension": ".py",
   "mimetype": "text/x-python",
   "name": "python",
   "nbconvert_exporter": "python",
   "pygments_lexer": "ipython3",
   "version": "3.7.3"
  }
 },
 "nbformat": 4,
 "nbformat_minor": 2
}
